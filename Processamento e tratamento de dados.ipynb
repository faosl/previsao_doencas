{
 "cells": [
  {
   "cell_type": "code",
   "execution_count": 1,
   "metadata": {},
   "outputs": [],
   "source": [
    "import pandas as pd\n",
    "import numpy as np\n",
    "from IPython.display import clear_output"
   ]
  },
  {
   "cell_type": "code",
   "execution_count": 2,
   "metadata": {},
   "outputs": [],
   "source": [
    "pd.set_option('display.max_columns', None)\n",
    "pd.set_option('display.max_rows', None)"
   ]
  },
  {
   "cell_type": "code",
   "execution_count": 3,
   "metadata": {},
   "outputs": [],
   "source": [
    "atendimentos_df = pd.read_csv('atendimentos_5_anos.csv',sep=';',parse_dates=True,encoding='ISO-8859-1')"
   ]
  },
  {
   "cell_type": "code",
   "execution_count": 4,
   "metadata": {},
   "outputs": [
    {
     "name": "stdout",
     "output_type": "stream",
     "text": [
      "Shape:  (60647, 6)\n"
     ]
    }
   ],
   "source": [
    "print(\"Shape: \",atendimentos_df.shape)"
   ]
  },
  {
   "cell_type": "code",
   "execution_count": 5,
   "metadata": {},
   "outputs": [
    {
     "name": "stdout",
     "output_type": "stream",
     "text": [
      "SEQ_REQUISICAO          int64\n",
      "SEQ_REQUISICAO_ITEM     int64\n",
      "DAT_NASCIMENTO         object\n",
      "FLG_GESTANTE           object\n",
      "FLG_SEXO               object\n",
      "SEQ_CID                 int64\n",
      "dtype: object\n"
     ]
    }
   ],
   "source": [
    "print(atendimentos_df.dtypes)"
   ]
  },
  {
   "cell_type": "code",
   "execution_count": 6,
   "metadata": {},
   "outputs": [
    {
     "data": {
      "text/html": [
       "<div>\n",
       "<style scoped>\n",
       "    .dataframe tbody tr th:only-of-type {\n",
       "        vertical-align: middle;\n",
       "    }\n",
       "\n",
       "    .dataframe tbody tr th {\n",
       "        vertical-align: top;\n",
       "    }\n",
       "\n",
       "    .dataframe thead th {\n",
       "        text-align: right;\n",
       "    }\n",
       "</style>\n",
       "<table border=\"1\" class=\"dataframe\">\n",
       "  <thead>\n",
       "    <tr style=\"text-align: right;\">\n",
       "      <th></th>\n",
       "      <th>SEQ_REQUISICAO</th>\n",
       "      <th>SEQ_REQUISICAO_ITEM</th>\n",
       "      <th>DAT_NASCIMENTO</th>\n",
       "      <th>FLG_GESTANTE</th>\n",
       "      <th>FLG_SEXO</th>\n",
       "      <th>SEQ_CID</th>\n",
       "    </tr>\n",
       "  </thead>\n",
       "  <tbody>\n",
       "    <tr>\n",
       "      <th>0</th>\n",
       "      <td>1935809</td>\n",
       "      <td>6888911</td>\n",
       "      <td>03/11/1980</td>\n",
       "      <td>N</td>\n",
       "      <td>F</td>\n",
       "      <td>21253</td>\n",
       "    </tr>\n",
       "    <tr>\n",
       "      <th>1</th>\n",
       "      <td>1939824</td>\n",
       "      <td>6901435</td>\n",
       "      <td>14/04/1942</td>\n",
       "      <td>N</td>\n",
       "      <td>M</td>\n",
       "      <td>20172</td>\n",
       "    </tr>\n",
       "    <tr>\n",
       "      <th>2</th>\n",
       "      <td>1939818</td>\n",
       "      <td>6901412</td>\n",
       "      <td>10/12/1918</td>\n",
       "      <td>N</td>\n",
       "      <td>F</td>\n",
       "      <td>19048</td>\n",
       "    </tr>\n",
       "    <tr>\n",
       "      <th>3</th>\n",
       "      <td>1940819</td>\n",
       "      <td>6904367</td>\n",
       "      <td>05/06/1946</td>\n",
       "      <td>N</td>\n",
       "      <td>F</td>\n",
       "      <td>15719</td>\n",
       "    </tr>\n",
       "    <tr>\n",
       "      <th>4</th>\n",
       "      <td>1941056</td>\n",
       "      <td>6905087</td>\n",
       "      <td>05/09/2009</td>\n",
       "      <td>N</td>\n",
       "      <td>M</td>\n",
       "      <td>22554</td>\n",
       "    </tr>\n",
       "  </tbody>\n",
       "</table>\n",
       "</div>"
      ],
      "text/plain": [
       "   SEQ_REQUISICAO  SEQ_REQUISICAO_ITEM DAT_NASCIMENTO FLG_GESTANTE FLG_SEXO  \\\n",
       "0         1935809              6888911     03/11/1980            N        F   \n",
       "1         1939824              6901435     14/04/1942            N        M   \n",
       "2         1939818              6901412     10/12/1918            N        F   \n",
       "3         1940819              6904367     05/06/1946            N        F   \n",
       "4         1941056              6905087     05/09/2009            N        M   \n",
       "\n",
       "   SEQ_CID  \n",
       "0    21253  \n",
       "1    20172  \n",
       "2    19048  \n",
       "3    15719  \n",
       "4    22554  "
      ]
     },
     "execution_count": 6,
     "metadata": {},
     "output_type": "execute_result"
    }
   ],
   "source": [
    "atendimentos_df.head()"
   ]
  },
  {
   "cell_type": "code",
   "execution_count": 7,
   "metadata": {},
   "outputs": [
    {
     "name": "stdout",
     "output_type": "stream",
     "text": [
      "Shape:  (2705054, 6)\n",
      "Shape:  (2773020, 6)\n",
      "Shape:  (3598117, 6)\n"
     ]
    }
   ],
   "source": [
    "exames_detalhesI_df = pd.read_csv('resultados_exames_detalhes_5_anos_I.csv',sep=';',encoding='ISO-8859-1')\n",
    "print(\"Shape: \",exames_detalhesI_df.shape)\n",
    "\n",
    "exames_detalhesII_df = pd.read_csv('resultados_exames_detalhes_5_anos_II.csv',sep=';',encoding='ISO-8859-1')\n",
    "print(\"Shape: \",exames_detalhesII_df.shape)\n",
    "\n",
    "exames_detalhesIII_df = pd.read_csv('resultados_exames_detalhes_5_anos_III.csv',sep=';',encoding='ISO-8859-1')\n",
    "print(\"Shape: \",exames_detalhesIII_df.shape)"
   ]
  },
  {
   "cell_type": "code",
   "execution_count": 8,
   "metadata": {},
   "outputs": [],
   "source": [
    "resultados_df = pd.concat([exames_detalhesI_df,exames_detalhesII_df,exames_detalhesIII_df])"
   ]
  },
  {
   "cell_type": "code",
   "execution_count": 9,
   "metadata": {},
   "outputs": [
    {
     "name": "stdout",
     "output_type": "stream",
     "text": [
      "SEQ_REQUISICAO          int64\n",
      "SEQ_REQUISICAO_ITEM     int64\n",
      "SEQ_EXAME_DETALHE       int64\n",
      "NOM_EXAME_DETALHE      object\n",
      "DES_UNIDADE_MEDIDA     object\n",
      "VLR_RESULTADO          object\n",
      "dtype: object\n"
     ]
    }
   ],
   "source": [
    "print(resultados_df.dtypes)"
   ]
  },
  {
   "cell_type": "code",
   "execution_count": 10,
   "metadata": {},
   "outputs": [
    {
     "name": "stdout",
     "output_type": "stream",
     "text": [
      "Shape:  (9076191, 6)\n"
     ]
    }
   ],
   "source": [
    "print(\"Shape: \",resultados_df.shape)"
   ]
  },
  {
   "cell_type": "code",
   "execution_count": 11,
   "metadata": {},
   "outputs": [
    {
     "data": {
      "text/html": [
       "<div>\n",
       "<style scoped>\n",
       "    .dataframe tbody tr th:only-of-type {\n",
       "        vertical-align: middle;\n",
       "    }\n",
       "\n",
       "    .dataframe tbody tr th {\n",
       "        vertical-align: top;\n",
       "    }\n",
       "\n",
       "    .dataframe thead th {\n",
       "        text-align: right;\n",
       "    }\n",
       "</style>\n",
       "<table border=\"1\" class=\"dataframe\">\n",
       "  <thead>\n",
       "    <tr style=\"text-align: right;\">\n",
       "      <th></th>\n",
       "      <th>SEQ_REQUISICAO</th>\n",
       "      <th>SEQ_REQUISICAO_ITEM</th>\n",
       "      <th>SEQ_EXAME_DETALHE</th>\n",
       "      <th>NOM_EXAME_DETALHE</th>\n",
       "      <th>DES_UNIDADE_MEDIDA</th>\n",
       "      <th>VLR_RESULTADO</th>\n",
       "    </tr>\n",
       "  </thead>\n",
       "  <tbody>\n",
       "    <tr>\n",
       "      <th>0</th>\n",
       "      <td>1532361</td>\n",
       "      <td>5475730</td>\n",
       "      <td>2472</td>\n",
       "      <td>Mielocitos............</td>\n",
       "      <td>%</td>\n",
       "      <td>00</td>\n",
       "    </tr>\n",
       "    <tr>\n",
       "      <th>1</th>\n",
       "      <td>1532361</td>\n",
       "      <td>5475730</td>\n",
       "      <td>2473</td>\n",
       "      <td>Metamielocitos....</td>\n",
       "      <td>%</td>\n",
       "      <td>00</td>\n",
       "    </tr>\n",
       "    <tr>\n",
       "      <th>2</th>\n",
       "      <td>1532361</td>\n",
       "      <td>5475730</td>\n",
       "      <td>2474</td>\n",
       "      <td>Bastonetes..........</td>\n",
       "      <td>%</td>\n",
       "      <td>00</td>\n",
       "    </tr>\n",
       "    <tr>\n",
       "      <th>3</th>\n",
       "      <td>1532361</td>\n",
       "      <td>5475730</td>\n",
       "      <td>2475</td>\n",
       "      <td>Segmentados......</td>\n",
       "      <td>%</td>\n",
       "      <td>66,7</td>\n",
       "    </tr>\n",
       "    <tr>\n",
       "      <th>4</th>\n",
       "      <td>1532361</td>\n",
       "      <td>5475730</td>\n",
       "      <td>2476</td>\n",
       "      <td>Eosinofilos...........</td>\n",
       "      <td>%</td>\n",
       "      <td>0,80</td>\n",
       "    </tr>\n",
       "    <tr>\n",
       "      <th>5</th>\n",
       "      <td>1532361</td>\n",
       "      <td>5475730</td>\n",
       "      <td>2477</td>\n",
       "      <td>Basofilos..............</td>\n",
       "      <td>%</td>\n",
       "      <td>0,30</td>\n",
       "    </tr>\n",
       "    <tr>\n",
       "      <th>6</th>\n",
       "      <td>1532361</td>\n",
       "      <td>5475730</td>\n",
       "      <td>2478</td>\n",
       "      <td>Linfocitos Tipicos.</td>\n",
       "      <td>%</td>\n",
       "      <td>25,30</td>\n",
       "    </tr>\n",
       "    <tr>\n",
       "      <th>7</th>\n",
       "      <td>1532361</td>\n",
       "      <td>5475730</td>\n",
       "      <td>2479</td>\n",
       "      <td>Linfocitos Atipicos</td>\n",
       "      <td>%</td>\n",
       "      <td>00</td>\n",
       "    </tr>\n",
       "    <tr>\n",
       "      <th>8</th>\n",
       "      <td>1532361</td>\n",
       "      <td>5475730</td>\n",
       "      <td>2480</td>\n",
       "      <td>Monocitos............</td>\n",
       "      <td>%</td>\n",
       "      <td>6,90</td>\n",
       "    </tr>\n",
       "    <tr>\n",
       "      <th>9</th>\n",
       "      <td>1532361</td>\n",
       "      <td>5475730</td>\n",
       "      <td>2484</td>\n",
       "      <td>Total</td>\n",
       "      <td>NaN</td>\n",
       "      <td>100</td>\n",
       "    </tr>\n",
       "    <tr>\n",
       "      <th>10</th>\n",
       "      <td>1532361</td>\n",
       "      <td>5475730</td>\n",
       "      <td>2509</td>\n",
       "      <td>OBS 3</td>\n",
       "      <td>NaN</td>\n",
       "      <td>NaN</td>\n",
       "    </tr>\n",
       "    <tr>\n",
       "      <th>11</th>\n",
       "      <td>1532361</td>\n",
       "      <td>5475730</td>\n",
       "      <td>2510</td>\n",
       "      <td>Plaquetas</td>\n",
       "      <td>/mm3</td>\n",
       "      <td>331.000</td>\n",
       "    </tr>\n",
       "    <tr>\n",
       "      <th>12</th>\n",
       "      <td>1532361</td>\n",
       "      <td>5475730</td>\n",
       "      <td>2511</td>\n",
       "      <td>OBS 1:</td>\n",
       "      <td>NaN</td>\n",
       "      <td>NaN</td>\n",
       "    </tr>\n",
       "    <tr>\n",
       "      <th>13</th>\n",
       "      <td>1532361</td>\n",
       "      <td>5475730</td>\n",
       "      <td>3407</td>\n",
       "      <td>OBS 1:</td>\n",
       "      <td>NaN</td>\n",
       "      <td>NaN</td>\n",
       "    </tr>\n",
       "    <tr>\n",
       "      <th>14</th>\n",
       "      <td>1532361</td>\n",
       "      <td>5475730</td>\n",
       "      <td>3408</td>\n",
       "      <td>OBS 2:</td>\n",
       "      <td>NaN</td>\n",
       "      <td>NaN</td>\n",
       "    </tr>\n",
       "    <tr>\n",
       "      <th>15</th>\n",
       "      <td>1532361</td>\n",
       "      <td>5475730</td>\n",
       "      <td>3441</td>\n",
       "      <td>OBS 3:</td>\n",
       "      <td>NaN</td>\n",
       "      <td>NaN</td>\n",
       "    </tr>\n",
       "    <tr>\n",
       "      <th>16</th>\n",
       "      <td>1532361</td>\n",
       "      <td>5475730</td>\n",
       "      <td>3442</td>\n",
       "      <td>OBS 2:</td>\n",
       "      <td>NaN</td>\n",
       "      <td>NaN</td>\n",
       "    </tr>\n",
       "    <tr>\n",
       "      <th>17</th>\n",
       "      <td>1532361</td>\n",
       "      <td>5475730</td>\n",
       "      <td>2483</td>\n",
       "      <td>Comentarios</td>\n",
       "      <td>NaN</td>\n",
       "      <td>NEUTROFILOS: Ausencia de alteracoes degenerati...</td>\n",
       "    </tr>\n",
       "    <tr>\n",
       "      <th>18</th>\n",
       "      <td>1532362</td>\n",
       "      <td>5475732</td>\n",
       "      <td>2405</td>\n",
       "      <td>Eritrocitos</td>\n",
       "      <td>mm3</td>\n",
       "      <td>4,90</td>\n",
       "    </tr>\n",
       "    <tr>\n",
       "      <th>19</th>\n",
       "      <td>1532362</td>\n",
       "      <td>5475732</td>\n",
       "      <td>2406</td>\n",
       "      <td>Hemoglobina</td>\n",
       "      <td>g/dl</td>\n",
       "      <td>15,10</td>\n",
       "    </tr>\n",
       "    <tr>\n",
       "      <th>20</th>\n",
       "      <td>1532362</td>\n",
       "      <td>5475732</td>\n",
       "      <td>2407</td>\n",
       "      <td>Hematocrito</td>\n",
       "      <td>%</td>\n",
       "      <td>43,60</td>\n",
       "    </tr>\n",
       "    <tr>\n",
       "      <th>21</th>\n",
       "      <td>1532362</td>\n",
       "      <td>5475732</td>\n",
       "      <td>2408</td>\n",
       "      <td>VCM</td>\n",
       "      <td>fl</td>\n",
       "      <td>88,98</td>\n",
       "    </tr>\n",
       "    <tr>\n",
       "      <th>22</th>\n",
       "      <td>1532362</td>\n",
       "      <td>5475732</td>\n",
       "      <td>2409</td>\n",
       "      <td>CHbCM</td>\n",
       "      <td>%</td>\n",
       "      <td>34,63</td>\n",
       "    </tr>\n",
       "    <tr>\n",
       "      <th>23</th>\n",
       "      <td>1532362</td>\n",
       "      <td>5475732</td>\n",
       "      <td>2410</td>\n",
       "      <td>HbCM</td>\n",
       "      <td>pg</td>\n",
       "      <td>30,82</td>\n",
       "    </tr>\n",
       "  </tbody>\n",
       "</table>\n",
       "</div>"
      ],
      "text/plain": [
       "    SEQ_REQUISICAO  SEQ_REQUISICAO_ITEM  SEQ_EXAME_DETALHE  \\\n",
       "0          1532361              5475730               2472   \n",
       "1          1532361              5475730               2473   \n",
       "2          1532361              5475730               2474   \n",
       "3          1532361              5475730               2475   \n",
       "4          1532361              5475730               2476   \n",
       "5          1532361              5475730               2477   \n",
       "6          1532361              5475730               2478   \n",
       "7          1532361              5475730               2479   \n",
       "8          1532361              5475730               2480   \n",
       "9          1532361              5475730               2484   \n",
       "10         1532361              5475730               2509   \n",
       "11         1532361              5475730               2510   \n",
       "12         1532361              5475730               2511   \n",
       "13         1532361              5475730               3407   \n",
       "14         1532361              5475730               3408   \n",
       "15         1532361              5475730               3441   \n",
       "16         1532361              5475730               3442   \n",
       "17         1532361              5475730               2483   \n",
       "18         1532362              5475732               2405   \n",
       "19         1532362              5475732               2406   \n",
       "20         1532362              5475732               2407   \n",
       "21         1532362              5475732               2408   \n",
       "22         1532362              5475732               2409   \n",
       "23         1532362              5475732               2410   \n",
       "\n",
       "          NOM_EXAME_DETALHE DES_UNIDADE_MEDIDA  \\\n",
       "0    Mielocitos............                  %   \n",
       "1        Metamielocitos....                  %   \n",
       "2      Bastonetes..........                  %   \n",
       "3         Segmentados......                  %   \n",
       "4    Eosinofilos...........                  %   \n",
       "5   Basofilos..............                  %   \n",
       "6       Linfocitos Tipicos.                  %   \n",
       "7       Linfocitos Atipicos                  %   \n",
       "8     Monocitos............                  %   \n",
       "9                     Total                NaN   \n",
       "10                    OBS 3                NaN   \n",
       "11                Plaquetas               /mm3   \n",
       "12                   OBS 1:                NaN   \n",
       "13                   OBS 1:                NaN   \n",
       "14                   OBS 2:                NaN   \n",
       "15                   OBS 3:                NaN   \n",
       "16                   OBS 2:                NaN   \n",
       "17              Comentarios                NaN   \n",
       "18              Eritrocitos                mm3   \n",
       "19              Hemoglobina               g/dl   \n",
       "20              Hematocrito                  %   \n",
       "21                      VCM                 fl   \n",
       "22                    CHbCM                  %   \n",
       "23                     HbCM                 pg   \n",
       "\n",
       "                                        VLR_RESULTADO  \n",
       "0                                                  00  \n",
       "1                                                  00  \n",
       "2                                                  00  \n",
       "3                                                66,7  \n",
       "4                                                0,80  \n",
       "5                                                0,30  \n",
       "6                                               25,30  \n",
       "7                                                  00  \n",
       "8                                                6,90  \n",
       "9                                                 100  \n",
       "10                                                NaN  \n",
       "11                                            331.000  \n",
       "12                                                NaN  \n",
       "13                                                NaN  \n",
       "14                                                NaN  \n",
       "15                                                NaN  \n",
       "16                                                NaN  \n",
       "17  NEUTROFILOS: Ausencia de alteracoes degenerati...  \n",
       "18                                               4,90  \n",
       "19                                              15,10  \n",
       "20                                              43,60  \n",
       "21                                              88,98  \n",
       "22                                              34,63  \n",
       "23                                              30,82  "
      ]
     },
     "execution_count": 11,
     "metadata": {},
     "output_type": "execute_result"
    }
   ],
   "source": [
    "resultados_df.head(24)"
   ]
  },
  {
   "cell_type": "code",
   "execution_count": 12,
   "metadata": {},
   "outputs": [],
   "source": [
    "cids_df = pd.read_csv('cids.csv',sep=';',encoding='ISO-8859-1')"
   ]
  },
  {
   "cell_type": "code",
   "execution_count": 13,
   "metadata": {},
   "outputs": [],
   "source": [
    "cids_df.set_index('SEQ_CID',inplace=True)"
   ]
  },
  {
   "cell_type": "code",
   "execution_count": 14,
   "metadata": {},
   "outputs": [
    {
     "name": "stdout",
     "output_type": "stream",
     "text": [
      "Shape:  (12367, 4)\n"
     ]
    }
   ],
   "source": [
    "print(\"Shape: \",cids_df.shape)"
   ]
  },
  {
   "cell_type": "code",
   "execution_count": 15,
   "metadata": {},
   "outputs": [
    {
     "name": "stdout",
     "output_type": "stream",
     "text": [
      "COD_CID           object\n",
      "NOM_CID           object\n",
      "DES_CAPITULO      object\n",
      "COD_ABRAGENCIA    object\n",
      "dtype: object\n"
     ]
    }
   ],
   "source": [
    "print(cids_df.dtypes)"
   ]
  },
  {
   "cell_type": "code",
   "execution_count": 16,
   "metadata": {},
   "outputs": [
    {
     "data": {
      "text/html": [
       "<div>\n",
       "<style scoped>\n",
       "    .dataframe tbody tr th:only-of-type {\n",
       "        vertical-align: middle;\n",
       "    }\n",
       "\n",
       "    .dataframe tbody tr th {\n",
       "        vertical-align: top;\n",
       "    }\n",
       "\n",
       "    .dataframe thead th {\n",
       "        text-align: right;\n",
       "    }\n",
       "</style>\n",
       "<table border=\"1\" class=\"dataframe\">\n",
       "  <thead>\n",
       "    <tr style=\"text-align: right;\">\n",
       "      <th></th>\n",
       "      <th>COD_CID</th>\n",
       "      <th>NOM_CID</th>\n",
       "      <th>DES_CAPITULO</th>\n",
       "      <th>COD_ABRAGENCIA</th>\n",
       "    </tr>\n",
       "    <tr>\n",
       "      <th>SEQ_CID</th>\n",
       "      <th></th>\n",
       "      <th></th>\n",
       "      <th></th>\n",
       "      <th></th>\n",
       "    </tr>\n",
       "  </thead>\n",
       "  <tbody>\n",
       "    <tr>\n",
       "      <th>15661</th>\n",
       "      <td>A000</td>\n",
       "      <td>Cólera devida a Vibrio Cholerae 01, biótipo Ch...</td>\n",
       "      <td>Algumas doenças infecciosas e parasitárias</td>\n",
       "      <td>A00-B99</td>\n",
       "    </tr>\n",
       "    <tr>\n",
       "      <th>15662</th>\n",
       "      <td>A001</td>\n",
       "      <td>Cólera devida a Vibrio Cholerae 01, biótipo El...</td>\n",
       "      <td>Algumas doenças infecciosas e parasitárias</td>\n",
       "      <td>A00-B99</td>\n",
       "    </tr>\n",
       "    <tr>\n",
       "      <th>15663</th>\n",
       "      <td>A009</td>\n",
       "      <td>Cólera não especificada</td>\n",
       "      <td>Algumas doenças infecciosas e parasitárias</td>\n",
       "      <td>A00-B99</td>\n",
       "    </tr>\n",
       "    <tr>\n",
       "      <th>15664</th>\n",
       "      <td>A010</td>\n",
       "      <td>Febre tifóide</td>\n",
       "      <td>Algumas doenças infecciosas e parasitárias</td>\n",
       "      <td>A00-B99</td>\n",
       "    </tr>\n",
       "    <tr>\n",
       "      <th>15665</th>\n",
       "      <td>A011</td>\n",
       "      <td>Febre paratifóide A</td>\n",
       "      <td>Algumas doenças infecciosas e parasitárias</td>\n",
       "      <td>A00-B99</td>\n",
       "    </tr>\n",
       "  </tbody>\n",
       "</table>\n",
       "</div>"
      ],
      "text/plain": [
       "        COD_CID                                            NOM_CID  \\\n",
       "SEQ_CID                                                              \n",
       "15661      A000  Cólera devida a Vibrio Cholerae 01, biótipo Ch...   \n",
       "15662      A001  Cólera devida a Vibrio Cholerae 01, biótipo El...   \n",
       "15663      A009                            Cólera não especificada   \n",
       "15664      A010                                      Febre tifóide   \n",
       "15665      A011                                Febre paratifóide A   \n",
       "\n",
       "                                       DES_CAPITULO COD_ABRAGENCIA  \n",
       "SEQ_CID                                                             \n",
       "15661    Algumas doenças infecciosas e parasitárias        A00-B99  \n",
       "15662    Algumas doenças infecciosas e parasitárias        A00-B99  \n",
       "15663    Algumas doenças infecciosas e parasitárias        A00-B99  \n",
       "15664    Algumas doenças infecciosas e parasitárias        A00-B99  \n",
       "15665    Algumas doenças infecciosas e parasitárias        A00-B99  "
      ]
     },
     "execution_count": 16,
     "metadata": {},
     "output_type": "execute_result"
    }
   ],
   "source": [
    "cids_df.head()"
   ]
  },
  {
   "cell_type": "code",
   "execution_count": 17,
   "metadata": {},
   "outputs": [],
   "source": [
    "atendimentos_df = atendimentos_df.join(cids_df,on=['SEQ_CID'],lsuffix='1',how='inner')"
   ]
  },
  {
   "cell_type": "code",
   "execution_count": 18,
   "metadata": {},
   "outputs": [],
   "source": [
    "atendimentos_df['GRUPO_CID'] = np.where(atendimentos_df['COD_CID'].str.len() <= 3,\n",
    "                                  atendimentos_df['COD_CID'],\n",
    "                                  atendimentos_df['COD_CID'].str.slice(start=0,stop=3))"
   ]
  },
  {
   "cell_type": "code",
   "execution_count": 19,
   "metadata": {
    "scrolled": true
   },
   "outputs": [
    {
     "data": {
      "text/html": [
       "<div>\n",
       "<style scoped>\n",
       "    .dataframe tbody tr th:only-of-type {\n",
       "        vertical-align: middle;\n",
       "    }\n",
       "\n",
       "    .dataframe tbody tr th {\n",
       "        vertical-align: top;\n",
       "    }\n",
       "\n",
       "    .dataframe thead th {\n",
       "        text-align: right;\n",
       "    }\n",
       "</style>\n",
       "<table border=\"1\" class=\"dataframe\">\n",
       "  <thead>\n",
       "    <tr style=\"text-align: right;\">\n",
       "      <th></th>\n",
       "      <th>SEQ_REQUISICAO</th>\n",
       "      <th>SEQ_REQUISICAO_ITEM</th>\n",
       "      <th>DAT_NASCIMENTO</th>\n",
       "      <th>FLG_GESTANTE</th>\n",
       "      <th>FLG_SEXO</th>\n",
       "      <th>SEQ_CID</th>\n",
       "      <th>COD_CID</th>\n",
       "      <th>NOM_CID</th>\n",
       "      <th>DES_CAPITULO</th>\n",
       "      <th>COD_ABRAGENCIA</th>\n",
       "      <th>GRUPO_CID</th>\n",
       "    </tr>\n",
       "  </thead>\n",
       "  <tbody>\n",
       "    <tr>\n",
       "      <th>0</th>\n",
       "      <td>1935809</td>\n",
       "      <td>6888911</td>\n",
       "      <td>03/11/1980</td>\n",
       "      <td>N</td>\n",
       "      <td>F</td>\n",
       "      <td>21253</td>\n",
       "      <td>O16</td>\n",
       "      <td>HIPERTENSAO MATERNA NAO ESPECIFICADA</td>\n",
       "      <td>Gravidez, parto e puerpério</td>\n",
       "      <td>O00-O99</td>\n",
       "      <td>O16</td>\n",
       "    </tr>\n",
       "    <tr>\n",
       "      <th>89</th>\n",
       "      <td>1936076</td>\n",
       "      <td>6889748</td>\n",
       "      <td>15/02/1990</td>\n",
       "      <td>N</td>\n",
       "      <td>F</td>\n",
       "      <td>21253</td>\n",
       "      <td>O16</td>\n",
       "      <td>HIPERTENSAO MATERNA NAO ESPECIFICADA</td>\n",
       "      <td>Gravidez, parto e puerpério</td>\n",
       "      <td>O00-O99</td>\n",
       "      <td>O16</td>\n",
       "    </tr>\n",
       "    <tr>\n",
       "      <th>154</th>\n",
       "      <td>1940457</td>\n",
       "      <td>6903314</td>\n",
       "      <td>21/12/1989</td>\n",
       "      <td>N</td>\n",
       "      <td>F</td>\n",
       "      <td>21253</td>\n",
       "      <td>O16</td>\n",
       "      <td>HIPERTENSAO MATERNA NAO ESPECIFICADA</td>\n",
       "      <td>Gravidez, parto e puerpério</td>\n",
       "      <td>O00-O99</td>\n",
       "      <td>O16</td>\n",
       "    </tr>\n",
       "    <tr>\n",
       "      <th>173</th>\n",
       "      <td>1947341</td>\n",
       "      <td>6925035</td>\n",
       "      <td>31/05/1980</td>\n",
       "      <td>N</td>\n",
       "      <td>F</td>\n",
       "      <td>21253</td>\n",
       "      <td>O16</td>\n",
       "      <td>HIPERTENSAO MATERNA NAO ESPECIFICADA</td>\n",
       "      <td>Gravidez, parto e puerpério</td>\n",
       "      <td>O00-O99</td>\n",
       "      <td>O16</td>\n",
       "    </tr>\n",
       "    <tr>\n",
       "      <th>255</th>\n",
       "      <td>1805845</td>\n",
       "      <td>6464765</td>\n",
       "      <td>07/04/1984</td>\n",
       "      <td>N</td>\n",
       "      <td>F</td>\n",
       "      <td>21253</td>\n",
       "      <td>O16</td>\n",
       "      <td>HIPERTENSAO MATERNA NAO ESPECIFICADA</td>\n",
       "      <td>Gravidez, parto e puerpério</td>\n",
       "      <td>O00-O99</td>\n",
       "      <td>O16</td>\n",
       "    </tr>\n",
       "  </tbody>\n",
       "</table>\n",
       "</div>"
      ],
      "text/plain": [
       "     SEQ_REQUISICAO  SEQ_REQUISICAO_ITEM DAT_NASCIMENTO FLG_GESTANTE FLG_SEXO  \\\n",
       "0           1935809              6888911     03/11/1980            N        F   \n",
       "89          1936076              6889748     15/02/1990            N        F   \n",
       "154         1940457              6903314     21/12/1989            N        F   \n",
       "173         1947341              6925035     31/05/1980            N        F   \n",
       "255         1805845              6464765     07/04/1984            N        F   \n",
       "\n",
       "     SEQ_CID COD_CID                               NOM_CID  \\\n",
       "0      21253     O16  HIPERTENSAO MATERNA NAO ESPECIFICADA   \n",
       "89     21253     O16  HIPERTENSAO MATERNA NAO ESPECIFICADA   \n",
       "154    21253     O16  HIPERTENSAO MATERNA NAO ESPECIFICADA   \n",
       "173    21253     O16  HIPERTENSAO MATERNA NAO ESPECIFICADA   \n",
       "255    21253     O16  HIPERTENSAO MATERNA NAO ESPECIFICADA   \n",
       "\n",
       "                    DES_CAPITULO COD_ABRAGENCIA GRUPO_CID  \n",
       "0    Gravidez, parto e puerpério        O00-O99       O16  \n",
       "89   Gravidez, parto e puerpério        O00-O99       O16  \n",
       "154  Gravidez, parto e puerpério        O00-O99       O16  \n",
       "173  Gravidez, parto e puerpério        O00-O99       O16  \n",
       "255  Gravidez, parto e puerpério        O00-O99       O16  "
      ]
     },
     "execution_count": 19,
     "metadata": {},
     "output_type": "execute_result"
    }
   ],
   "source": [
    "atendimentos_df.head()"
   ]
  },
  {
   "cell_type": "code",
   "execution_count": 20,
   "metadata": {},
   "outputs": [],
   "source": [
    "atendimentos_df.to_csv('atendimentos.csv',sep=';',index=False)"
   ]
  },
  {
   "cell_type": "code",
   "execution_count": 21,
   "metadata": {},
   "outputs": [],
   "source": [
    "resultados_df = resultados_df.set_index('SEQ_REQUISICAO_ITEM',drop=False)\\\n",
    "                             .join(atendimentos_df[['SEQ_REQUISICAO_ITEM','SEQ_REQUISICAO']]\\\n",
    "                                    .drop('SEQ_REQUISICAO',axis=1)\\\n",
    "                                    .set_index('SEQ_REQUISICAO_ITEM'),how='inner')"
   ]
  },
  {
   "cell_type": "code",
   "execution_count": 22,
   "metadata": {},
   "outputs": [
    {
     "data": {
      "text/html": [
       "<div>\n",
       "<style scoped>\n",
       "    .dataframe tbody tr th:only-of-type {\n",
       "        vertical-align: middle;\n",
       "    }\n",
       "\n",
       "    .dataframe tbody tr th {\n",
       "        vertical-align: top;\n",
       "    }\n",
       "\n",
       "    .dataframe thead th {\n",
       "        text-align: right;\n",
       "    }\n",
       "</style>\n",
       "<table border=\"1\" class=\"dataframe\">\n",
       "  <thead>\n",
       "    <tr style=\"text-align: right;\">\n",
       "      <th></th>\n",
       "      <th>SEQ_REQUISICAO</th>\n",
       "      <th>SEQ_REQUISICAO_ITEM</th>\n",
       "      <th>SEQ_EXAME_DETALHE</th>\n",
       "      <th>NOM_EXAME_DETALHE</th>\n",
       "      <th>DES_UNIDADE_MEDIDA</th>\n",
       "      <th>VLR_RESULTADO</th>\n",
       "    </tr>\n",
       "    <tr>\n",
       "      <th>SEQ_REQUISICAO_ITEM</th>\n",
       "      <th></th>\n",
       "      <th></th>\n",
       "      <th></th>\n",
       "      <th></th>\n",
       "      <th></th>\n",
       "      <th></th>\n",
       "    </tr>\n",
       "  </thead>\n",
       "  <tbody>\n",
       "    <tr>\n",
       "      <th>6112349</th>\n",
       "      <td>1704127</td>\n",
       "      <td>6112349</td>\n",
       "      <td>2405</td>\n",
       "      <td>Eritrocitos</td>\n",
       "      <td>mm3</td>\n",
       "      <td>2,26</td>\n",
       "    </tr>\n",
       "    <tr>\n",
       "      <th>6112349</th>\n",
       "      <td>1704127</td>\n",
       "      <td>6112349</td>\n",
       "      <td>2406</td>\n",
       "      <td>Hemoglobina</td>\n",
       "      <td>g/dl</td>\n",
       "      <td>7,2</td>\n",
       "    </tr>\n",
       "    <tr>\n",
       "      <th>6112349</th>\n",
       "      <td>1704127</td>\n",
       "      <td>6112349</td>\n",
       "      <td>2407</td>\n",
       "      <td>Hematocrito</td>\n",
       "      <td>%</td>\n",
       "      <td>21,40</td>\n",
       "    </tr>\n",
       "    <tr>\n",
       "      <th>6112349</th>\n",
       "      <td>1704127</td>\n",
       "      <td>6112349</td>\n",
       "      <td>2408</td>\n",
       "      <td>VCM</td>\n",
       "      <td>fl</td>\n",
       "      <td>94,70</td>\n",
       "    </tr>\n",
       "    <tr>\n",
       "      <th>6112349</th>\n",
       "      <td>1704127</td>\n",
       "      <td>6112349</td>\n",
       "      <td>2409</td>\n",
       "      <td>CHbCM</td>\n",
       "      <td>%</td>\n",
       "      <td>33,80</td>\n",
       "    </tr>\n",
       "  </tbody>\n",
       "</table>\n",
       "</div>"
      ],
      "text/plain": [
       "                     SEQ_REQUISICAO  SEQ_REQUISICAO_ITEM  SEQ_EXAME_DETALHE  \\\n",
       "SEQ_REQUISICAO_ITEM                                                           \n",
       "6112349                     1704127              6112349               2405   \n",
       "6112349                     1704127              6112349               2406   \n",
       "6112349                     1704127              6112349               2407   \n",
       "6112349                     1704127              6112349               2408   \n",
       "6112349                     1704127              6112349               2409   \n",
       "\n",
       "                    NOM_EXAME_DETALHE DES_UNIDADE_MEDIDA VLR_RESULTADO  \n",
       "SEQ_REQUISICAO_ITEM                                                     \n",
       "6112349                   Eritrocitos                mm3          2,26  \n",
       "6112349                   Hemoglobina               g/dl           7,2  \n",
       "6112349                   Hematocrito                  %         21,40  \n",
       "6112349                           VCM                 fl         94,70  \n",
       "6112349                         CHbCM                  %         33,80  "
      ]
     },
     "execution_count": 22,
     "metadata": {},
     "output_type": "execute_result"
    }
   ],
   "source": [
    "resultados_df.head()"
   ]
  },
  {
   "cell_type": "code",
   "execution_count": 23,
   "metadata": {},
   "outputs": [
    {
     "data": {
      "text/plain": [
       "(55866,)"
      ]
     },
     "execution_count": 23,
     "metadata": {},
     "output_type": "execute_result"
    }
   ],
   "source": [
    "seq_requisicao_itens = resultados_df['SEQ_REQUISICAO_ITEM'].unique()\n",
    "seq_requisicao_itens.shape"
   ]
  },
  {
   "cell_type": "code",
   "execution_count": 24,
   "metadata": {},
   "outputs": [],
   "source": [
    "resultados_df['NOM_EXAME_DETALHE'] = resultados_df['NOM_EXAME_DETALHE']\\\n",
    "                                        .apply(lambda x: x.replace('.',''))"
   ]
  },
  {
   "cell_type": "code",
   "execution_count": 25,
   "metadata": {},
   "outputs": [],
   "source": [
    "nomes_exame_detalhe = resultados_df['NOM_EXAME_DETALHE'].unique()"
   ]
  },
  {
   "cell_type": "code",
   "execution_count": 26,
   "metadata": {},
   "outputs": [],
   "source": [
    "dets_results_df = pd.DataFrame(seq_requisicao_itens,columns=['SEQ_REQUISICAO_ITEM'])\n",
    "dets_results_df[nomes_exame_detalhe]= np.nan"
   ]
  },
  {
   "cell_type": "code",
   "execution_count": 27,
   "metadata": {},
   "outputs": [
    {
     "data": {
      "text/plain": [
       "(55866, 24)"
      ]
     },
     "execution_count": 27,
     "metadata": {},
     "output_type": "execute_result"
    }
   ],
   "source": [
    "dets_results_df.shape"
   ]
  },
  {
   "cell_type": "code",
   "execution_count": 28,
   "metadata": {},
   "outputs": [
    {
     "name": "stdout",
     "output_type": "stream",
     "text": [
      "Passo 55867 de 55866. Requisicao item 10581717.0\n"
     ]
    }
   ],
   "source": [
    "total_passos = dets_results_df.shape[0]\n",
    "passo = 1\n",
    "\n",
    "for index, row in dets_results_df.iterrows():\n",
    "    t = resultados_df.loc[row['SEQ_REQUISICAO_ITEM']].T        \n",
    "    dets_results_df.loc[index,list(t.loc['NOM_EXAME_DETALHE'].values)] = t.loc['VLR_RESULTADO'].values\n",
    "    passo = passo + 1\n",
    "    clear_output(wait=True)\n",
    "    print('Passo {} de {}. Requisicao item {}'.format(passo,total_passos,row['SEQ_REQUISICAO_ITEM']))"
   ]
  },
  {
   "cell_type": "code",
   "execution_count": 59,
   "metadata": {},
   "outputs": [],
   "source": [
    "dets_results_df.to_csv('detalhes_resultados.csv',index=False,sep=';');"
   ]
  },
  {
   "cell_type": "code",
   "execution_count": 60,
   "metadata": {},
   "outputs": [
    {
     "name": "stdout",
     "output_type": "stream",
     "text": [
      "Index(['SEQ_REQUISICAO_ITEM', 'Eritrocitos', 'Hemoglobina', 'Hematocrito',\n",
      "       'VCM', 'CHbCM', 'HbCM', 'Comentarios', 'LEUCOCITOS', 'Mielocitos',\n",
      "       'Metamielocitos', 'Bastonetes', 'Segmentados', 'Eosinofilos',\n",
      "       'Basofilos', 'Linfocitos Tipicos', 'Linfocitos Atipicos', 'Monocitos',\n",
      "       'Total', 'OBS 3', 'Plaquetas', 'OBS 1:', 'OBS 2:', 'OBS 3:'],\n",
      "      dtype='object')\n"
     ]
    }
   ],
   "source": [
    "print(dets_results_df.columns)"
   ]
  },
  {
   "cell_type": "code",
   "execution_count": 61,
   "metadata": {},
   "outputs": [
    {
     "name": "stdout",
     "output_type": "stream",
     "text": [
      "SEQ_REQUISICAO_ITEM     int64\n",
      "Eritrocitos            object\n",
      "Hemoglobina            object\n",
      "Hematocrito            object\n",
      "VCM                    object\n",
      "CHbCM                  object\n",
      "HbCM                   object\n",
      "Comentarios            object\n",
      "LEUCOCITOS             object\n",
      "Mielocitos             object\n",
      "Metamielocitos         object\n",
      "Bastonetes             object\n",
      "Segmentados            object\n",
      "Eosinofilos            object\n",
      "Basofilos              object\n",
      "Linfocitos Tipicos     object\n",
      "Linfocitos Atipicos    object\n",
      "Monocitos              object\n",
      "Total                  object\n",
      "OBS 3                  object\n",
      "Plaquetas              object\n",
      "OBS 1:                 object\n",
      "OBS 2:                 object\n",
      "OBS 3:                 object\n",
      "dtype: object\n"
     ]
    }
   ],
   "source": [
    "print(dets_results_df.dtypes)"
   ]
  },
  {
   "cell_type": "code",
   "execution_count": 62,
   "metadata": {},
   "outputs": [
    {
     "name": "stdout",
     "output_type": "stream",
     "text": [
      "(55866, 24)\n"
     ]
    }
   ],
   "source": [
    "print(dets_results_df.shape)"
   ]
  },
  {
   "cell_type": "code",
   "execution_count": 63,
   "metadata": {},
   "outputs": [
    {
     "data": {
      "text/html": [
       "<div>\n",
       "<style scoped>\n",
       "    .dataframe tbody tr th:only-of-type {\n",
       "        vertical-align: middle;\n",
       "    }\n",
       "\n",
       "    .dataframe tbody tr th {\n",
       "        vertical-align: top;\n",
       "    }\n",
       "\n",
       "    .dataframe thead th {\n",
       "        text-align: right;\n",
       "    }\n",
       "</style>\n",
       "<table border=\"1\" class=\"dataframe\">\n",
       "  <thead>\n",
       "    <tr style=\"text-align: right;\">\n",
       "      <th></th>\n",
       "      <th>SEQ_REQUISICAO_ITEM</th>\n",
       "      <th>Eritrocitos</th>\n",
       "      <th>Hemoglobina</th>\n",
       "      <th>Hematocrito</th>\n",
       "      <th>VCM</th>\n",
       "      <th>CHbCM</th>\n",
       "      <th>HbCM</th>\n",
       "      <th>Comentarios</th>\n",
       "      <th>LEUCOCITOS</th>\n",
       "      <th>Mielocitos</th>\n",
       "      <th>Metamielocitos</th>\n",
       "      <th>Bastonetes</th>\n",
       "      <th>Segmentados</th>\n",
       "      <th>Eosinofilos</th>\n",
       "      <th>Basofilos</th>\n",
       "      <th>Linfocitos Tipicos</th>\n",
       "      <th>Linfocitos Atipicos</th>\n",
       "      <th>Monocitos</th>\n",
       "      <th>Total</th>\n",
       "      <th>OBS 3</th>\n",
       "      <th>Plaquetas</th>\n",
       "      <th>OBS 1:</th>\n",
       "      <th>OBS 2:</th>\n",
       "      <th>OBS 3:</th>\n",
       "    </tr>\n",
       "  </thead>\n",
       "  <tbody>\n",
       "    <tr>\n",
       "      <th>0</th>\n",
       "      <td>6112349</td>\n",
       "      <td>2,26</td>\n",
       "      <td>7,2</td>\n",
       "      <td>21,40</td>\n",
       "      <td>94,70</td>\n",
       "      <td>33,80</td>\n",
       "      <td>32,50</td>\n",
       "      <td>Normocitica, normocromica</td>\n",
       "      <td>7980</td>\n",
       "      <td>0</td>\n",
       "      <td>0</td>\n",
       "      <td>0</td>\n",
       "      <td>82</td>\n",
       "      <td>0,00</td>\n",
       "      <td>0,00</td>\n",
       "      <td>13,00</td>\n",
       "      <td>00</td>\n",
       "      <td>5,00</td>\n",
       "      <td>100</td>\n",
       "      <td>NaN</td>\n",
       "      <td>67000</td>\n",
       "      <td>Neutrofilos: Raros com granulacoes toxicas finas.</td>\n",
       "      <td>NaN</td>\n",
       "      <td>NaN</td>\n",
       "    </tr>\n",
       "    <tr>\n",
       "      <th>1</th>\n",
       "      <td>6161419</td>\n",
       "      <td>5,45</td>\n",
       "      <td>16,40</td>\n",
       "      <td>46,00</td>\n",
       "      <td>84,40</td>\n",
       "      <td>35,70</td>\n",
       "      <td>30,10</td>\n",
       "      <td>Normocitica, normocromica</td>\n",
       "      <td>7640</td>\n",
       "      <td>0</td>\n",
       "      <td>0</td>\n",
       "      <td>0</td>\n",
       "      <td>69,5</td>\n",
       "      <td>1,00</td>\n",
       "      <td>0,40</td>\n",
       "      <td>22,80</td>\n",
       "      <td>0</td>\n",
       "      <td>6,30</td>\n",
       "      <td>100</td>\n",
       "      <td>NaN</td>\n",
       "      <td>446000</td>\n",
       "      <td>NaN</td>\n",
       "      <td>NaN</td>\n",
       "      <td>NaN</td>\n",
       "    </tr>\n",
       "    <tr>\n",
       "      <th>2</th>\n",
       "      <td>6211682</td>\n",
       "      <td>4,48</td>\n",
       "      <td>14,20</td>\n",
       "      <td>41,00</td>\n",
       "      <td>91,52</td>\n",
       "      <td>34,63</td>\n",
       "      <td>31,7</td>\n",
       "      <td>NEUTROFILOS: Ausencia de alteracoes degenerati...</td>\n",
       "      <td>8.750</td>\n",
       "      <td>00</td>\n",
       "      <td>00</td>\n",
       "      <td>02</td>\n",
       "      <td>73</td>\n",
       "      <td>02</td>\n",
       "      <td>00</td>\n",
       "      <td>16</td>\n",
       "      <td>00</td>\n",
       "      <td>07</td>\n",
       "      <td>100</td>\n",
       "      <td>NaN</td>\n",
       "      <td>330.000</td>\n",
       "      <td>NaN</td>\n",
       "      <td>NaN</td>\n",
       "      <td>NaN</td>\n",
       "    </tr>\n",
       "    <tr>\n",
       "      <th>3</th>\n",
       "      <td>6237378</td>\n",
       "      <td>5,03</td>\n",
       "      <td>15,90</td>\n",
       "      <td>42,90</td>\n",
       "      <td>85,29</td>\n",
       "      <td>37,06</td>\n",
       "      <td>31,61</td>\n",
       "      <td>NEUTROFILOS: Ausencia de alteracoes degenerati...</td>\n",
       "      <td>10.850</td>\n",
       "      <td>00</td>\n",
       "      <td>00</td>\n",
       "      <td>00</td>\n",
       "      <td>60</td>\n",
       "      <td>01</td>\n",
       "      <td>00</td>\n",
       "      <td>32</td>\n",
       "      <td>00</td>\n",
       "      <td>07</td>\n",
       "      <td>100</td>\n",
       "      <td>NaN</td>\n",
       "      <td>364.000</td>\n",
       "      <td>Plaquetas: Adequadas em lamina.</td>\n",
       "      <td>NaN</td>\n",
       "      <td>NaN</td>\n",
       "    </tr>\n",
       "    <tr>\n",
       "      <th>4</th>\n",
       "      <td>6333551</td>\n",
       "      <td>3,58</td>\n",
       "      <td>10,20</td>\n",
       "      <td>31,20</td>\n",
       "      <td>87,15</td>\n",
       "      <td>32,69</td>\n",
       "      <td>28,49</td>\n",
       "      <td>Leve microcitose.</td>\n",
       "      <td>8.590</td>\n",
       "      <td>00</td>\n",
       "      <td>00</td>\n",
       "      <td>00</td>\n",
       "      <td>71,3</td>\n",
       "      <td>1,00</td>\n",
       "      <td>0,10</td>\n",
       "      <td>22,90</td>\n",
       "      <td>00</td>\n",
       "      <td>4,70</td>\n",
       "      <td>100</td>\n",
       "      <td>NaN</td>\n",
       "      <td>309.000</td>\n",
       "      <td>NaN</td>\n",
       "      <td>NaN</td>\n",
       "      <td>NaN</td>\n",
       "    </tr>\n",
       "  </tbody>\n",
       "</table>\n",
       "</div>"
      ],
      "text/plain": [
       "   SEQ_REQUISICAO_ITEM Eritrocitos Hemoglobina Hematocrito    VCM  CHbCM  \\\n",
       "0              6112349        2,26         7,2       21,40  94,70  33,80   \n",
       "1              6161419        5,45       16,40       46,00  84,40  35,70   \n",
       "2              6211682        4,48       14,20       41,00  91,52  34,63   \n",
       "3              6237378        5,03       15,90       42,90  85,29  37,06   \n",
       "4              6333551        3,58       10,20       31,20  87,15  32,69   \n",
       "\n",
       "    HbCM                                        Comentarios LEUCOCITOS  \\\n",
       "0  32,50                          Normocitica, normocromica       7980   \n",
       "1  30,10                          Normocitica, normocromica       7640   \n",
       "2   31,7  NEUTROFILOS: Ausencia de alteracoes degenerati...      8.750   \n",
       "3  31,61  NEUTROFILOS: Ausencia de alteracoes degenerati...     10.850   \n",
       "4  28,49                                  Leve microcitose.      8.590   \n",
       "\n",
       "  Mielocitos Metamielocitos Bastonetes Segmentados Eosinofilos Basofilos  \\\n",
       "0          0              0          0          82        0,00      0,00   \n",
       "1          0              0          0        69,5        1,00      0,40   \n",
       "2         00             00         02          73          02        00   \n",
       "3         00             00         00          60          01        00   \n",
       "4         00             00         00        71,3        1,00      0,10   \n",
       "\n",
       "  Linfocitos Tipicos Linfocitos Atipicos Monocitos Total OBS 3 Plaquetas  \\\n",
       "0              13,00                  00      5,00   100   NaN     67000   \n",
       "1              22,80                   0      6,30   100   NaN    446000   \n",
       "2                 16                  00        07   100   NaN   330.000   \n",
       "3                 32                  00        07   100   NaN   364.000   \n",
       "4              22,90                  00      4,70   100   NaN   309.000   \n",
       "\n",
       "                                              OBS 1: OBS 2: OBS 3:  \n",
       "0  Neutrofilos: Raros com granulacoes toxicas finas.    NaN    NaN  \n",
       "1                                                NaN    NaN    NaN  \n",
       "2                                                NaN    NaN    NaN  \n",
       "3                    Plaquetas: Adequadas em lamina.    NaN    NaN  \n",
       "4                                                NaN    NaN    NaN  "
      ]
     },
     "execution_count": 63,
     "metadata": {},
     "output_type": "execute_result"
    }
   ],
   "source": [
    "dets_results_df.head()"
   ]
  },
  {
   "cell_type": "code",
   "execution_count": 64,
   "metadata": {},
   "outputs": [],
   "source": [
    "features_exclusao = ['OBS 3',\n",
    "                     'OBS 1:',\n",
    "                     'OBS 2:',\n",
    "                     'OBS 3:',\n",
    "                     'Comentarios']\n",
    "\n",
    "dets_results_df = dets_results_df.drop(features_exclusao,axis=1)"
   ]
  },
  {
   "cell_type": "code",
   "execution_count": 65,
   "metadata": {},
   "outputs": [
    {
     "data": {
      "text/html": [
       "<div>\n",
       "<style scoped>\n",
       "    .dataframe tbody tr th:only-of-type {\n",
       "        vertical-align: middle;\n",
       "    }\n",
       "\n",
       "    .dataframe tbody tr th {\n",
       "        vertical-align: top;\n",
       "    }\n",
       "\n",
       "    .dataframe thead th {\n",
       "        text-align: right;\n",
       "    }\n",
       "</style>\n",
       "<table border=\"1\" class=\"dataframe\">\n",
       "  <thead>\n",
       "    <tr style=\"text-align: right;\">\n",
       "      <th></th>\n",
       "      <th>SEQ_REQUISICAO_ITEM</th>\n",
       "      <th>Eritrocitos</th>\n",
       "      <th>Hemoglobina</th>\n",
       "      <th>Hematocrito</th>\n",
       "      <th>VCM</th>\n",
       "      <th>CHbCM</th>\n",
       "      <th>HbCM</th>\n",
       "      <th>LEUCOCITOS</th>\n",
       "      <th>Mielocitos</th>\n",
       "      <th>Metamielocitos</th>\n",
       "      <th>Bastonetes</th>\n",
       "      <th>Segmentados</th>\n",
       "      <th>Eosinofilos</th>\n",
       "      <th>Basofilos</th>\n",
       "      <th>Linfocitos Tipicos</th>\n",
       "      <th>Linfocitos Atipicos</th>\n",
       "      <th>Monocitos</th>\n",
       "      <th>Total</th>\n",
       "      <th>Plaquetas</th>\n",
       "    </tr>\n",
       "  </thead>\n",
       "  <tbody>\n",
       "    <tr>\n",
       "      <th>0</th>\n",
       "      <td>6112349</td>\n",
       "      <td>2,26</td>\n",
       "      <td>7,2</td>\n",
       "      <td>21,40</td>\n",
       "      <td>94,70</td>\n",
       "      <td>33,80</td>\n",
       "      <td>32,50</td>\n",
       "      <td>7980</td>\n",
       "      <td>0</td>\n",
       "      <td>0</td>\n",
       "      <td>0</td>\n",
       "      <td>82</td>\n",
       "      <td>0,00</td>\n",
       "      <td>0,00</td>\n",
       "      <td>13,00</td>\n",
       "      <td>00</td>\n",
       "      <td>5,00</td>\n",
       "      <td>100</td>\n",
       "      <td>67000</td>\n",
       "    </tr>\n",
       "    <tr>\n",
       "      <th>1</th>\n",
       "      <td>6161419</td>\n",
       "      <td>5,45</td>\n",
       "      <td>16,40</td>\n",
       "      <td>46,00</td>\n",
       "      <td>84,40</td>\n",
       "      <td>35,70</td>\n",
       "      <td>30,10</td>\n",
       "      <td>7640</td>\n",
       "      <td>0</td>\n",
       "      <td>0</td>\n",
       "      <td>0</td>\n",
       "      <td>69,5</td>\n",
       "      <td>1,00</td>\n",
       "      <td>0,40</td>\n",
       "      <td>22,80</td>\n",
       "      <td>0</td>\n",
       "      <td>6,30</td>\n",
       "      <td>100</td>\n",
       "      <td>446000</td>\n",
       "    </tr>\n",
       "    <tr>\n",
       "      <th>2</th>\n",
       "      <td>6211682</td>\n",
       "      <td>4,48</td>\n",
       "      <td>14,20</td>\n",
       "      <td>41,00</td>\n",
       "      <td>91,52</td>\n",
       "      <td>34,63</td>\n",
       "      <td>31,7</td>\n",
       "      <td>8.750</td>\n",
       "      <td>00</td>\n",
       "      <td>00</td>\n",
       "      <td>02</td>\n",
       "      <td>73</td>\n",
       "      <td>02</td>\n",
       "      <td>00</td>\n",
       "      <td>16</td>\n",
       "      <td>00</td>\n",
       "      <td>07</td>\n",
       "      <td>100</td>\n",
       "      <td>330.000</td>\n",
       "    </tr>\n",
       "    <tr>\n",
       "      <th>3</th>\n",
       "      <td>6237378</td>\n",
       "      <td>5,03</td>\n",
       "      <td>15,90</td>\n",
       "      <td>42,90</td>\n",
       "      <td>85,29</td>\n",
       "      <td>37,06</td>\n",
       "      <td>31,61</td>\n",
       "      <td>10.850</td>\n",
       "      <td>00</td>\n",
       "      <td>00</td>\n",
       "      <td>00</td>\n",
       "      <td>60</td>\n",
       "      <td>01</td>\n",
       "      <td>00</td>\n",
       "      <td>32</td>\n",
       "      <td>00</td>\n",
       "      <td>07</td>\n",
       "      <td>100</td>\n",
       "      <td>364.000</td>\n",
       "    </tr>\n",
       "    <tr>\n",
       "      <th>4</th>\n",
       "      <td>6333551</td>\n",
       "      <td>3,58</td>\n",
       "      <td>10,20</td>\n",
       "      <td>31,20</td>\n",
       "      <td>87,15</td>\n",
       "      <td>32,69</td>\n",
       "      <td>28,49</td>\n",
       "      <td>8.590</td>\n",
       "      <td>00</td>\n",
       "      <td>00</td>\n",
       "      <td>00</td>\n",
       "      <td>71,3</td>\n",
       "      <td>1,00</td>\n",
       "      <td>0,10</td>\n",
       "      <td>22,90</td>\n",
       "      <td>00</td>\n",
       "      <td>4,70</td>\n",
       "      <td>100</td>\n",
       "      <td>309.000</td>\n",
       "    </tr>\n",
       "  </tbody>\n",
       "</table>\n",
       "</div>"
      ],
      "text/plain": [
       "   SEQ_REQUISICAO_ITEM Eritrocitos Hemoglobina Hematocrito    VCM  CHbCM  \\\n",
       "0              6112349        2,26         7,2       21,40  94,70  33,80   \n",
       "1              6161419        5,45       16,40       46,00  84,40  35,70   \n",
       "2              6211682        4,48       14,20       41,00  91,52  34,63   \n",
       "3              6237378        5,03       15,90       42,90  85,29  37,06   \n",
       "4              6333551        3,58       10,20       31,20  87,15  32,69   \n",
       "\n",
       "    HbCM LEUCOCITOS Mielocitos Metamielocitos Bastonetes Segmentados  \\\n",
       "0  32,50       7980          0              0          0          82   \n",
       "1  30,10       7640          0              0          0        69,5   \n",
       "2   31,7      8.750         00             00         02          73   \n",
       "3  31,61     10.850         00             00         00          60   \n",
       "4  28,49      8.590         00             00         00        71,3   \n",
       "\n",
       "  Eosinofilos Basofilos Linfocitos Tipicos Linfocitos Atipicos Monocitos  \\\n",
       "0        0,00      0,00              13,00                  00      5,00   \n",
       "1        1,00      0,40              22,80                   0      6,30   \n",
       "2          02        00                 16                  00        07   \n",
       "3          01        00                 32                  00        07   \n",
       "4        1,00      0,10              22,90                  00      4,70   \n",
       "\n",
       "  Total Plaquetas  \n",
       "0   100     67000  \n",
       "1   100    446000  \n",
       "2   100   330.000  \n",
       "3   100   364.000  \n",
       "4   100   309.000  "
      ]
     },
     "execution_count": 65,
     "metadata": {},
     "output_type": "execute_result"
    }
   ],
   "source": [
    "dets_results_df.head()"
   ]
  },
  {
   "cell_type": "code",
   "execution_count": 66,
   "metadata": {},
   "outputs": [
    {
     "data": {
      "text/plain": [
       "SEQ_REQUISICAO_ITEM       0\n",
       "Eritrocitos               6\n",
       "Hemoglobina               6\n",
       "Hematocrito               6\n",
       "VCM                       5\n",
       "CHbCM                     5\n",
       "HbCM                      5\n",
       "LEUCOCITOS                8\n",
       "Mielocitos             1142\n",
       "Metamielocitos         1108\n",
       "Bastonetes              836\n",
       "Segmentados               7\n",
       "Eosinofilos             140\n",
       "Basofilos               808\n",
       "Linfocitos Tipicos       11\n",
       "Linfocitos Atipicos    1085\n",
       "Monocitos                10\n",
       "Total                   209\n",
       "Plaquetas                10\n",
       "dtype: int64"
      ]
     },
     "execution_count": 66,
     "metadata": {},
     "output_type": "execute_result"
    }
   ],
   "source": [
    "dets_results_df.isnull().sum()"
   ]
  },
  {
   "cell_type": "code",
   "execution_count": 67,
   "metadata": {},
   "outputs": [],
   "source": [
    "dets_results_df = dets_results_df[dets_results_df['Mielocitos'].notnull()]"
   ]
  },
  {
   "cell_type": "code",
   "execution_count": 68,
   "metadata": {},
   "outputs": [
    {
     "data": {
      "text/plain": [
       "SEQ_REQUISICAO_ITEM     0\n",
       "Eritrocitos             4\n",
       "Hemoglobina             3\n",
       "Hematocrito             3\n",
       "VCM                     2\n",
       "CHbCM                   2\n",
       "HbCM                    2\n",
       "LEUCOCITOS              4\n",
       "Mielocitos              0\n",
       "Metamielocitos          5\n",
       "Bastonetes              3\n",
       "Segmentados             2\n",
       "Eosinofilos            10\n",
       "Basofilos              26\n",
       "Linfocitos Tipicos      1\n",
       "Linfocitos Atipicos    26\n",
       "Monocitos               1\n",
       "Total                  21\n",
       "Plaquetas               8\n",
       "dtype: int64"
      ]
     },
     "execution_count": 68,
     "metadata": {},
     "output_type": "execute_result"
    }
   ],
   "source": [
    "dets_results_df.isnull().sum()"
   ]
  },
  {
   "cell_type": "code",
   "execution_count": 71,
   "metadata": {},
   "outputs": [
    {
     "data": {
      "text/plain": [
       "(54724, 19)"
      ]
     },
     "execution_count": 71,
     "metadata": {},
     "output_type": "execute_result"
    }
   ],
   "source": [
    "dets_results_df.shape"
   ]
  },
  {
   "cell_type": "code",
   "execution_count": 72,
   "metadata": {},
   "outputs": [],
   "source": [
    "dets_results_df = dets_results_df.dropna()"
   ]
  },
  {
   "cell_type": "code",
   "execution_count": 74,
   "metadata": {},
   "outputs": [
    {
     "data": {
      "text/plain": [
       "(54674, 19)"
      ]
     },
     "execution_count": 74,
     "metadata": {},
     "output_type": "execute_result"
    }
   ],
   "source": [
    "dets_results_df.shape"
   ]
  },
  {
   "cell_type": "code",
   "execution_count": 75,
   "metadata": {},
   "outputs": [
    {
     "data": {
      "text/html": [
       "<div>\n",
       "<style scoped>\n",
       "    .dataframe tbody tr th:only-of-type {\n",
       "        vertical-align: middle;\n",
       "    }\n",
       "\n",
       "    .dataframe tbody tr th {\n",
       "        vertical-align: top;\n",
       "    }\n",
       "\n",
       "    .dataframe thead th {\n",
       "        text-align: right;\n",
       "    }\n",
       "</style>\n",
       "<table border=\"1\" class=\"dataframe\">\n",
       "  <thead>\n",
       "    <tr style=\"text-align: right;\">\n",
       "      <th></th>\n",
       "      <th>SEQ_REQUISICAO_ITEM</th>\n",
       "      <th>Eritrocitos</th>\n",
       "      <th>Hemoglobina</th>\n",
       "      <th>Hematocrito</th>\n",
       "      <th>VCM</th>\n",
       "      <th>CHbCM</th>\n",
       "      <th>HbCM</th>\n",
       "      <th>LEUCOCITOS</th>\n",
       "      <th>Mielocitos</th>\n",
       "      <th>Metamielocitos</th>\n",
       "      <th>Bastonetes</th>\n",
       "      <th>Segmentados</th>\n",
       "      <th>Eosinofilos</th>\n",
       "      <th>Basofilos</th>\n",
       "      <th>Linfocitos Tipicos</th>\n",
       "      <th>Linfocitos Atipicos</th>\n",
       "      <th>Monocitos</th>\n",
       "      <th>Total</th>\n",
       "      <th>Plaquetas</th>\n",
       "    </tr>\n",
       "  </thead>\n",
       "  <tbody>\n",
       "    <tr>\n",
       "      <th>0</th>\n",
       "      <td>6112349</td>\n",
       "      <td>2,26</td>\n",
       "      <td>7,2</td>\n",
       "      <td>21,40</td>\n",
       "      <td>94,70</td>\n",
       "      <td>33,80</td>\n",
       "      <td>32,50</td>\n",
       "      <td>7980</td>\n",
       "      <td>0</td>\n",
       "      <td>0</td>\n",
       "      <td>0</td>\n",
       "      <td>82</td>\n",
       "      <td>0,00</td>\n",
       "      <td>0,00</td>\n",
       "      <td>13,00</td>\n",
       "      <td>00</td>\n",
       "      <td>5,00</td>\n",
       "      <td>100</td>\n",
       "      <td>67000</td>\n",
       "    </tr>\n",
       "    <tr>\n",
       "      <th>1</th>\n",
       "      <td>6161419</td>\n",
       "      <td>5,45</td>\n",
       "      <td>16,40</td>\n",
       "      <td>46,00</td>\n",
       "      <td>84,40</td>\n",
       "      <td>35,70</td>\n",
       "      <td>30,10</td>\n",
       "      <td>7640</td>\n",
       "      <td>0</td>\n",
       "      <td>0</td>\n",
       "      <td>0</td>\n",
       "      <td>69,5</td>\n",
       "      <td>1,00</td>\n",
       "      <td>0,40</td>\n",
       "      <td>22,80</td>\n",
       "      <td>0</td>\n",
       "      <td>6,30</td>\n",
       "      <td>100</td>\n",
       "      <td>446000</td>\n",
       "    </tr>\n",
       "    <tr>\n",
       "      <th>2</th>\n",
       "      <td>6211682</td>\n",
       "      <td>4,48</td>\n",
       "      <td>14,20</td>\n",
       "      <td>41,00</td>\n",
       "      <td>91,52</td>\n",
       "      <td>34,63</td>\n",
       "      <td>31,7</td>\n",
       "      <td>8.750</td>\n",
       "      <td>00</td>\n",
       "      <td>00</td>\n",
       "      <td>02</td>\n",
       "      <td>73</td>\n",
       "      <td>02</td>\n",
       "      <td>00</td>\n",
       "      <td>16</td>\n",
       "      <td>00</td>\n",
       "      <td>07</td>\n",
       "      <td>100</td>\n",
       "      <td>330.000</td>\n",
       "    </tr>\n",
       "    <tr>\n",
       "      <th>3</th>\n",
       "      <td>6237378</td>\n",
       "      <td>5,03</td>\n",
       "      <td>15,90</td>\n",
       "      <td>42,90</td>\n",
       "      <td>85,29</td>\n",
       "      <td>37,06</td>\n",
       "      <td>31,61</td>\n",
       "      <td>10.850</td>\n",
       "      <td>00</td>\n",
       "      <td>00</td>\n",
       "      <td>00</td>\n",
       "      <td>60</td>\n",
       "      <td>01</td>\n",
       "      <td>00</td>\n",
       "      <td>32</td>\n",
       "      <td>00</td>\n",
       "      <td>07</td>\n",
       "      <td>100</td>\n",
       "      <td>364.000</td>\n",
       "    </tr>\n",
       "    <tr>\n",
       "      <th>4</th>\n",
       "      <td>6333551</td>\n",
       "      <td>3,58</td>\n",
       "      <td>10,20</td>\n",
       "      <td>31,20</td>\n",
       "      <td>87,15</td>\n",
       "      <td>32,69</td>\n",
       "      <td>28,49</td>\n",
       "      <td>8.590</td>\n",
       "      <td>00</td>\n",
       "      <td>00</td>\n",
       "      <td>00</td>\n",
       "      <td>71,3</td>\n",
       "      <td>1,00</td>\n",
       "      <td>0,10</td>\n",
       "      <td>22,90</td>\n",
       "      <td>00</td>\n",
       "      <td>4,70</td>\n",
       "      <td>100</td>\n",
       "      <td>309.000</td>\n",
       "    </tr>\n",
       "  </tbody>\n",
       "</table>\n",
       "</div>"
      ],
      "text/plain": [
       "   SEQ_REQUISICAO_ITEM Eritrocitos Hemoglobina Hematocrito    VCM  CHbCM  \\\n",
       "0              6112349        2,26         7,2       21,40  94,70  33,80   \n",
       "1              6161419        5,45       16,40       46,00  84,40  35,70   \n",
       "2              6211682        4,48       14,20       41,00  91,52  34,63   \n",
       "3              6237378        5,03       15,90       42,90  85,29  37,06   \n",
       "4              6333551        3,58       10,20       31,20  87,15  32,69   \n",
       "\n",
       "    HbCM LEUCOCITOS Mielocitos Metamielocitos Bastonetes Segmentados  \\\n",
       "0  32,50       7980          0              0          0          82   \n",
       "1  30,10       7640          0              0          0        69,5   \n",
       "2   31,7      8.750         00             00         02          73   \n",
       "3  31,61     10.850         00             00         00          60   \n",
       "4  28,49      8.590         00             00         00        71,3   \n",
       "\n",
       "  Eosinofilos Basofilos Linfocitos Tipicos Linfocitos Atipicos Monocitos  \\\n",
       "0        0,00      0,00              13,00                  00      5,00   \n",
       "1        1,00      0,40              22,80                   0      6,30   \n",
       "2          02        00                 16                  00        07   \n",
       "3          01        00                 32                  00        07   \n",
       "4        1,00      0,10              22,90                  00      4,70   \n",
       "\n",
       "  Total Plaquetas  \n",
       "0   100     67000  \n",
       "1   100    446000  \n",
       "2   100   330.000  \n",
       "3   100   364.000  \n",
       "4   100   309.000  "
      ]
     },
     "execution_count": 75,
     "metadata": {},
     "output_type": "execute_result"
    }
   ],
   "source": [
    "dets_results_df.head()"
   ]
  },
  {
   "cell_type": "code",
   "execution_count": 76,
   "metadata": {},
   "outputs": [
    {
     "data": {
      "text/plain": [
       "SEQ_REQUISICAO_ITEM    0\n",
       "Eritrocitos            0\n",
       "Hemoglobina            0\n",
       "Hematocrito            0\n",
       "VCM                    0\n",
       "CHbCM                  0\n",
       "HbCM                   0\n",
       "LEUCOCITOS             0\n",
       "Mielocitos             0\n",
       "Metamielocitos         0\n",
       "Bastonetes             0\n",
       "Segmentados            0\n",
       "Eosinofilos            0\n",
       "Basofilos              0\n",
       "Linfocitos Tipicos     0\n",
       "Linfocitos Atipicos    0\n",
       "Monocitos              0\n",
       "Total                  0\n",
       "Plaquetas              0\n",
       "dtype: int64"
      ]
     },
     "execution_count": 76,
     "metadata": {},
     "output_type": "execute_result"
    }
   ],
   "source": [
    "dets_results_df.isnull().sum()"
   ]
  },
  {
   "cell_type": "code",
   "execution_count": null,
   "metadata": {},
   "outputs": [],
   "source": [
    "dets_results_df['Plaquetas'] = dets_results_df['Plaquetas'].str.replace('\\D+', '')"
   ]
  },
  {
   "cell_type": "code",
   "execution_count": 77,
   "metadata": {},
   "outputs": [],
   "source": [
    "dets_results_df = dets_results_df.drop(\n",
    "                    list(dets_results_df[(dets_results_df['Eritrocitos']=='--,--')\n",
    "                                          |(dets_results_df['Eosinofilos']=='--,--')\n",
    "                                          |(dets_results_df['Mielocitos']==',')\n",
    "                                          |(dets_results_df['Total']=='.')\n",
    "                                          |(dets_results_df['VCM']=='+')\n",
    "                                          |(dets_results_df['VCM']=='89.0<ENTER>')\n",
    "                                          |(dets_results_df['CHbCM']=='36,6034,80')\n",
    "                                          |(dets_results_df['CHbCM']=='32,,3')\n",
    "                                          |(dets_results_df['Total']=='*')\n",
    "                                          |(dets_results_df['Plaquetas']=='')].index))\n",
    "    "
   ]
  },
  {
   "cell_type": "code",
   "execution_count": 82,
   "metadata": {},
   "outputs": [
    {
     "data": {
      "text/plain": [
       "(210, 19)"
      ]
     },
     "execution_count": 82,
     "metadata": {},
     "output_type": "execute_result"
    }
   ],
   "source": [
    "dets_results_df[dets_results_df['Plaquetas']==''].shape"
   ]
  },
  {
   "cell_type": "code",
   "execution_count": 8,
   "metadata": {},
   "outputs": [],
   "source": [
    "def converter_float(x):\n",
    "    if x.name == 'SEQ_REQUISICAO_ITEM':\n",
    "        return x\n",
    "    elif x.name == 'LEUCOCITOS':\n",
    "        return x.str.replace('.','').str.replace(',','').astype('float64')\n",
    "    else :       \n",
    "        return x.str.replace(',','.').astype('float64')"
   ]
  },
  {
   "cell_type": "code",
   "execution_count": 11,
   "metadata": {},
   "outputs": [],
   "source": [
    "dets_results_df = dets_results_df.apply(converter_float, axis=0)"
   ]
  },
  {
   "cell_type": "code",
   "execution_count": 12,
   "metadata": {},
   "outputs": [
    {
     "data": {
      "text/plain": [
       "SEQ_REQUISICAO_ITEM      int64\n",
       "Eritrocitos            float64\n",
       "Hemoglobina            float64\n",
       "Hematocrito            float64\n",
       "VCM                    float64\n",
       "CHbCM                  float64\n",
       "HbCM                   float64\n",
       "LEUCOCITOS             float64\n",
       "Mielocitos             float64\n",
       "Metamielocitos         float64\n",
       "Bastonetes             float64\n",
       "Segmentados            float64\n",
       "Eosinofilos            float64\n",
       "Basofilos              float64\n",
       "Linfocitos Tipicos     float64\n",
       "Linfocitos Atipicos    float64\n",
       "Monocitos              float64\n",
       "Total                  float64\n",
       "Plaquetas              float64\n",
       "dtype: object"
      ]
     },
     "execution_count": 12,
     "metadata": {},
     "output_type": "execute_result"
    }
   ],
   "source": [
    "dets_results_df.dtypes"
   ]
  },
  {
   "cell_type": "code",
   "execution_count": 19,
   "metadata": {},
   "outputs": [
    {
     "data": {
      "text/plain": [
       "(54457, 19)"
      ]
     },
     "execution_count": 19,
     "metadata": {},
     "output_type": "execute_result"
    }
   ],
   "source": [
    "dets_results_df.shape"
   ]
  },
  {
   "cell_type": "code",
   "execution_count": 18,
   "metadata": {},
   "outputs": [
    {
     "data": {
      "text/plain": [
       "SEQ_REQUISICAO_ITEM    0\n",
       "Eritrocitos            0\n",
       "Hemoglobina            0\n",
       "Hematocrito            0\n",
       "VCM                    0\n",
       "CHbCM                  0\n",
       "HbCM                   0\n",
       "LEUCOCITOS             0\n",
       "Mielocitos             0\n",
       "Metamielocitos         0\n",
       "Bastonetes             0\n",
       "Segmentados            0\n",
       "Eosinofilos            0\n",
       "Basofilos              0\n",
       "Linfocitos Tipicos     0\n",
       "Linfocitos Atipicos    0\n",
       "Monocitos              0\n",
       "Total                  0\n",
       "Plaquetas              0\n",
       "dtype: int64"
      ]
     },
     "execution_count": 18,
     "metadata": {},
     "output_type": "execute_result"
    }
   ],
   "source": [
    "dets_results_df.isnull().sum()"
   ]
  },
  {
   "cell_type": "code",
   "execution_count": null,
   "metadata": {},
   "outputs": [],
   "source": [
    "dets_results_df.to_csv('detalhes_resultados_pre_processados.csv',index=False,sep=';')"
   ]
  }
 ],
 "metadata": {
  "kernelspec": {
   "display_name": "Python 3",
   "language": "python",
   "name": "python3"
  },
  "language_info": {
   "codemirror_mode": {
    "name": "ipython",
    "version": 3
   },
   "file_extension": ".py",
   "mimetype": "text/x-python",
   "name": "python",
   "nbconvert_exporter": "python",
   "pygments_lexer": "ipython3",
   "version": "3.7.3"
  }
 },
 "nbformat": 4,
 "nbformat_minor": 4
}
